{
  "nbformat": 4,
  "nbformat_minor": 0,
  "metadata": {
    "colab": {
      "provenance": []
    },
    "kernelspec": {
      "name": "python3",
      "display_name": "Python 3"
    },
    "language_info": {
      "name": "python"
    }
  },
  "cells": [
    {
      "cell_type": "markdown",
      "source": [
        "# **Prueba técnica Cielum | Analytics leader**\n",
        "\n",
        "## Cesar Ramirez Gomez\n",
        "### Ingeniero electronico\n",
        "### Estudiante maestria en inteligencia artificial\n",
        "\n",
        "---\n",
        "###Modelos de inteligencia artificial \n"
      ],
      "metadata": {
        "id": "wtFf7laomq73"
      }
    },
    {
      "cell_type": "code",
      "source": [
        "from datetime import datetime, timedelta, date\n",
        "import numpy as np\n",
        "import pandas as pd\n",
        "from collections import Counter\n",
        "from pylab import rcParams\n",
        "import statsmodels.api as sm\n",
        "import multiprocessing\n",
        "import seaborn as sns\n",
        "import tensorflow as tf\n",
        "import matplotlib.pyplot as plt\n",
        "import matplotlib.dates as mdates\n",
        "%matplotlib inline  \n",
        "\n",
        "from tensorflow.keras import Sequential\n",
        "from tensorflow.keras.layers import Dense\n",
        "from tensorflow.keras.utils import to_categorical\n",
        "from imblearn.under_sampling import NearMiss, RandomUnderSampler\n",
        "from imblearn.over_sampling import RandomOverSampler, SMOTE\n",
        "from imblearn.combine import SMOTETomek\n",
        "from imblearn.ensemble import BalancedBaggingClassifier\n",
        "from sklearn.compose import ColumnTransformer\n",
        "from sklearn.ensemble import RandomForestClassifier\n",
        "from sklearn.inspection import permutation_importance\n",
        "from sklearn.metrics import accuracy_score, recall_score, precision_score, f1_score, roc_auc_score\n",
        "from sklearn.metrics import confusion_matrix, plot_confusion_matrix, classification_report\n",
        "from sklearn.model_selection import cross_val_score, train_test_split\n",
        "from sklearn.model_selection import GridSearchCV, RepeatedKFold, ParameterGrid\n",
        "from sklearn.preprocessing import OneHotEncoder\n",
        "from sklearn.linear_model import LogisticRegression\n",
        "from sklearn.preprocessing import StandardScaler\n",
        "from sklearn.metrics import confusion_matrix, classification_report\n",
        "from termcolor import colored\n",
        "import warnings\n",
        "warnings.filterwarnings(\"ignore\")\n",
        "from sklearn.model_selection import train_test_split\n",
        "from sklearn.feature_selection import chi2\n",
        "import scipy.stats as stats\n",
        "from imblearn.over_sampling import RandomOverSampler\n",
        "from sklearn.feature_selection import VarianceThreshold\n",
        "from sklearn.preprocessing import LabelEncoder, StandardScaler\n",
        "from sklearn.model_selection import RepeatedStratifiedKFold\n",
        "from sklearn.model_selection import cross_val_score\n",
        "from sklearn.model_selection import GridSearchCV\n",
        "from sklearn.model_selection import RandomizedSearchCV\n",
        "from sklearn.linear_model import LogisticRegression\n",
        "from sklearn.ensemble import RandomForestClassifier\n",
        "from sklearn.ensemble import AdaBoostClassifier\n",
        "from sklearn.tree import DecisionTreeClassifier\n",
        "from sklearn.svm import SVC\n",
        "from xgboost import XGBClassifier\n",
        "from sklearn.neighbors import KNeighborsClassifier\n",
        "from scipy.stats import zscore\n",
        "from sklearn.model_selection import GridSearchCV\n",
        "from sklearn.metrics import classification_report\n",
        "from sklearn import metrics\n",
        "from sklearn.model_selection import StratifiedKFold\n",
        "from sklearn.model_selection import cross_val_score\n",
        "sns.set(rc={\"figure.dpi\":300, 'savefig.dpi':300})\n",
        "plt.rcParams['figure.dpi'] = 300\n",
        "plt.rcParams['savefig.dpi'] = 300\n",
        "pd.set_option('display.max_columns',29)"
      ],
      "metadata": {
        "id": "G7REd2b7s5eB"
      },
      "execution_count": null,
      "outputs": []
    },
    {
      "cell_type": "code",
      "execution_count": null,
      "metadata": {
        "id": "hXsvxcwRsJ2A"
      },
      "outputs": [],
      "source": [
        "#Leyendo el archivo con los datos y conversion a DataFrame\n",
        "datos = pd.read_excel(\"/content/drive/MyDrive/Colab_Notebooks/prueba/datos_limpios.xlsx\")\n",
        "df = pd.DataFrame(datos)"
      ]
    },
    {
      "cell_type": "markdown",
      "source": [
        "# Division conjunto de datos en entrenamiento y prueba"
      ],
      "metadata": {
        "id": "1Iq6gA7Zxk0w"
      }
    },
    {
      "cell_type": "code",
      "source": [
        "#Se selecciona aleatoriamente 500 elementos de la variable mayoritaria\n",
        "from sklearn.utils import resample\n",
        "exito = df[df[\"Variable_objetivo\"]== 1]\n",
        "fracaso = df[df[\"Variable_objetivo\"]== 0]\n",
        "fracaso_reduccion = resample(fracaso, replace=True, n_samples=500, random_state=42)\n",
        "dataset_disminuido = pd.concat([fracaso_reduccion,exito])"
      ],
      "metadata": {
        "id": "ImqWRYbGOkDO"
      },
      "execution_count": null,
      "outputs": []
    },
    {
      "cell_type": "code",
      "source": [
        "#Se define la variable objetivo, se divide el set de datos en entrenamiento (80%) y prueba (20%) con una semilla aleatoria de 42 \n",
        "labels = dataset_disminuido.Variable_objetivo\n",
        "features = dataset_disminuido.drop(['Variable_objetivo'], axis = 1)\n",
        "X_train, X_test, y_train, y_test = train_test_split(features, labels, test_size = 0.2, random_state = 42)"
      ],
      "metadata": {
        "id": "sK6nqzC_uq3-"
      },
      "execution_count": null,
      "outputs": []
    },
    {
      "cell_type": "code",
      "source": [
        "#Se escala las variables con el mismo peso y se obtiene el numero de datos para entrenamiento y prueba\n",
        "scaler = StandardScaler().fit(X_train)\n",
        "X_train = scaler.transform(X_train)\n",
        "X_test = scaler.transform(X_test)\n",
        "print('Tamaño variables entrenamiento:', X_train.shape)\n",
        "print('Tamaño etiquetas entrenamiento:', y_train.shape)\n",
        "print('Tamaño variables testeo:', X_test.shape)\n",
        "print('Tamaño etiquetas testeo:', y_test.shape)"
      ],
      "metadata": {
        "colab": {
          "base_uri": "https://localhost:8080/"
        },
        "id": "o3F6xmIzvomG",
        "outputId": "4cd06d95-f48b-424a-ac4d-9d4a751cfa5b"
      },
      "execution_count": null,
      "outputs": [
        {
          "output_type": "stream",
          "name": "stdout",
          "text": [
            "Tamaño variables entrenamiento: (417, 73)\n",
            "Tamaño etiquetas entrenamiento: (417,)\n",
            "Tamaño variables testeo: (105, 73)\n",
            "Tamaño etiquetas testeo: (105,)\n"
          ]
        }
      ]
    },
    {
      "cell_type": "markdown",
      "source": [
        "# BALANCEDO DE DATOS\n",
        "\n",
        "Se aplican tecnicas de balanceo con la libreria SMOTE, que permite el sobremuestreo de minorías sintéticas aumentando el número de casos de un conjunto de datos de forma equilibrada. Se genera nuevas instancias a partir de casos minoritarios existentes."
      ],
      "metadata": {
        "id": "xM3NlTTw9VkM"
      }
    },
    {
      "cell_type": "code",
      "source": [
        "from imblearn.combine import SMOTEENN\n",
        "counter = Counter(y_train)\n",
        "print(\"Antes de balanceo de datos: \", counter)\n",
        "smenn = SMOTEENN()\n",
        "X_train_smenn, y_train_smenn = smenn.fit_resample(X_train, y_train)\n",
        "counter2 = Counter(y_train_smenn)\n",
        "print(\"Despues de balanceo de datos: \", counter2)"
      ],
      "metadata": {
        "colab": {
          "base_uri": "https://localhost:8080/"
        },
        "id": "iGLnIAT87WZm",
        "outputId": "ce705a08-b5d4-4ae1-ccfc-b9c8c4821d1e"
      },
      "execution_count": null,
      "outputs": [
        {
          "output_type": "stream",
          "name": "stdout",
          "text": [
            "Antes de balanceo de datos:  Counter({0: 404, 1: 13})\n",
            "Despues de balanceo de datos:  Counter({1: 404, 0: 387})\n"
          ]
        }
      ]
    },
    {
      "cell_type": "code",
      "source": [
        "#Funcion para generar la matriz de confusion\n",
        "def draw_cm(actual, predicted):\n",
        "    cm = confusion_matrix(actual, predicted)\n",
        "    sns.heatmap(cm, annot=True,  fmt='.2f', xticklabels = [0,1] , yticklabels = [0,1] )\n",
        "    plt.ylabel('Observed')\n",
        "    plt.xlabel('Predicted')\n",
        "    plt.show()"
      ],
      "metadata": {
        "id": "LC4zgjMZWSRA"
      },
      "execution_count": null,
      "outputs": []
    },
    {
      "cell_type": "markdown",
      "source": [
        "Random forest\n"
      ],
      "metadata": {
        "id": "LBnkvWzjWoJh"
      }
    },
    {
      "cell_type": "code",
      "source": [
        "# Loop para ajustar un modelo con cada combinación de hiperparámetros\n",
        "# ==============================================================================\n",
        "param_grid = ParameterGrid(\n",
        "                {'n_estimators': [150],\n",
        "                 'max_features': [5, 7, 9],\n",
        "                 'max_depth'   : [None, 3, 10, 20],\n",
        "                 'criterion'   : ['gini', 'entropy']\n",
        "                }\n",
        "            )\n",
        "\n",
        "# Loop paralelizado para ajustar un modelo con cada combinación de hiperparámetros\n",
        "# ==============================================================================\n",
        "def eval_oob_error(X, y, modelo, params, verbose=True):\n",
        "    \"\"\"\n",
        "    Función para entrenar un modelo utilizando unos parámetros determinados\n",
        "    y que devuelve el out-of-bag error\n",
        "    \"\"\"\n",
        "    modelo.set_params(\n",
        "        oob_score    = True,\n",
        "        n_jobs       = -1,\n",
        "        random_state = 123,\n",
        "        ** params            \n",
        "    )\n",
        "    \n",
        "    modelo.fit(X, y)\n",
        "    \n",
        "    if verbose:\n",
        "        print(f\"Modelo: {params} \\u2713\")\n",
        "        \n",
        "    return{'params': params, 'oob_accuracy': modelo.oob_score_}\n",
        "\n",
        "\n",
        "n_jobs     = multiprocessing.cpu_count() -1\n",
        "pool       = multiprocessing.Pool(processes=n_jobs)\n",
        "resultados = pool.starmap(\n",
        "                eval_oob_error,\n",
        "                [(X_train_smenn, y_train_smenn, RandomForestClassifier(), params) for params in param_grid]\n",
        "             )\n",
        "\n",
        "# Resultados\n",
        "# ==============================================================================\n",
        "resultados = pd.DataFrame(resultados)\n",
        "resultados = pd.concat([resultados, resultados['params'].apply(pd.Series)], axis=1)\n",
        "resultados = resultados.drop(columns = 'params')\n",
        "resultados = resultados.sort_values('oob_accuracy', ascending=False)\n",
        "resultados.head(4)"
      ],
      "metadata": {
        "colab": {
          "base_uri": "https://localhost:8080/",
          "height": 591
        },
        "id": "HvPgdrtkW3Ly",
        "outputId": "9a7f2a9f-d5d0-40de-e1e8-b7a6ba59230e"
      },
      "execution_count": null,
      "outputs": [
        {
          "output_type": "stream",
          "name": "stdout",
          "text": [
            "Modelo: {'criterion': 'gini', 'max_depth': None, 'max_features': 5, 'n_estimators': 150} ✓\n",
            "Modelo: {'criterion': 'gini', 'max_depth': None, 'max_features': 7, 'n_estimators': 150} ✓\n",
            "Modelo: {'criterion': 'gini', 'max_depth': None, 'max_features': 9, 'n_estimators': 150} ✓\n",
            "Modelo: {'criterion': 'gini', 'max_depth': 3, 'max_features': 5, 'n_estimators': 150} ✓\n",
            "Modelo: {'criterion': 'gini', 'max_depth': 3, 'max_features': 7, 'n_estimators': 150} ✓\n",
            "Modelo: {'criterion': 'gini', 'max_depth': 3, 'max_features': 9, 'n_estimators': 150} ✓\n",
            "Modelo: {'criterion': 'gini', 'max_depth': 10, 'max_features': 5, 'n_estimators': 150} ✓\n",
            "Modelo: {'criterion': 'gini', 'max_depth': 10, 'max_features': 7, 'n_estimators': 150} ✓\n",
            "Modelo: {'criterion': 'gini', 'max_depth': 10, 'max_features': 9, 'n_estimators': 150} ✓\n",
            "Modelo: {'criterion': 'gini', 'max_depth': 20, 'max_features': 5, 'n_estimators': 150} ✓\n",
            "Modelo: {'criterion': 'gini', 'max_depth': 20, 'max_features': 7, 'n_estimators': 150} ✓\n",
            "Modelo: {'criterion': 'gini', 'max_depth': 20, 'max_features': 9, 'n_estimators': 150} ✓\n",
            "Modelo: {'criterion': 'entropy', 'max_depth': None, 'max_features': 5, 'n_estimators': 150} ✓\n",
            "Modelo: {'criterion': 'entropy', 'max_depth': None, 'max_features': 7, 'n_estimators': 150} ✓\n",
            "Modelo: {'criterion': 'entropy', 'max_depth': None, 'max_features': 9, 'n_estimators': 150} ✓\n",
            "Modelo: {'criterion': 'entropy', 'max_depth': 3, 'max_features': 5, 'n_estimators': 150} ✓\n",
            "Modelo: {'criterion': 'entropy', 'max_depth': 3, 'max_features': 7, 'n_estimators': 150} ✓\n",
            "Modelo: {'criterion': 'entropy', 'max_depth': 3, 'max_features': 9, 'n_estimators': 150} ✓\n",
            "Modelo: {'criterion': 'entropy', 'max_depth': 10, 'max_features': 5, 'n_estimators': 150} ✓\n",
            "Modelo: {'criterion': 'entropy', 'max_depth': 10, 'max_features': 7, 'n_estimators': 150} ✓\n",
            "Modelo: {'criterion': 'entropy', 'max_depth': 10, 'max_features': 9, 'n_estimators': 150} ✓\n",
            "Modelo: {'criterion': 'entropy', 'max_depth': 20, 'max_features': 5, 'n_estimators': 150} ✓\n",
            "Modelo: {'criterion': 'entropy', 'max_depth': 20, 'max_features': 7, 'n_estimators': 150} ✓\n",
            "Modelo: {'criterion': 'entropy', 'max_depth': 20, 'max_features': 9, 'n_estimators': 150} ✓\n"
          ]
        },
        {
          "output_type": "execute_result",
          "data": {
            "text/plain": [
              "    oob_accuracy criterion  max_depth  max_features  n_estimators\n",
              "0            1.0      gini        NaN             5           150\n",
              "11           1.0      gini       20.0             9           150\n",
              "22           1.0   entropy       20.0             7           150\n",
              "21           1.0   entropy       20.0             5           150"
            ],
            "text/html": [
              "\n",
              "  <div id=\"df-7495059f-9791-44fb-8430-95dcb16d3f1a\">\n",
              "    <div class=\"colab-df-container\">\n",
              "      <div>\n",
              "<style scoped>\n",
              "    .dataframe tbody tr th:only-of-type {\n",
              "        vertical-align: middle;\n",
              "    }\n",
              "\n",
              "    .dataframe tbody tr th {\n",
              "        vertical-align: top;\n",
              "    }\n",
              "\n",
              "    .dataframe thead th {\n",
              "        text-align: right;\n",
              "    }\n",
              "</style>\n",
              "<table border=\"1\" class=\"dataframe\">\n",
              "  <thead>\n",
              "    <tr style=\"text-align: right;\">\n",
              "      <th></th>\n",
              "      <th>oob_accuracy</th>\n",
              "      <th>criterion</th>\n",
              "      <th>max_depth</th>\n",
              "      <th>max_features</th>\n",
              "      <th>n_estimators</th>\n",
              "    </tr>\n",
              "  </thead>\n",
              "  <tbody>\n",
              "    <tr>\n",
              "      <th>0</th>\n",
              "      <td>1.0</td>\n",
              "      <td>gini</td>\n",
              "      <td>NaN</td>\n",
              "      <td>5</td>\n",
              "      <td>150</td>\n",
              "    </tr>\n",
              "    <tr>\n",
              "      <th>11</th>\n",
              "      <td>1.0</td>\n",
              "      <td>gini</td>\n",
              "      <td>20.0</td>\n",
              "      <td>9</td>\n",
              "      <td>150</td>\n",
              "    </tr>\n",
              "    <tr>\n",
              "      <th>22</th>\n",
              "      <td>1.0</td>\n",
              "      <td>entropy</td>\n",
              "      <td>20.0</td>\n",
              "      <td>7</td>\n",
              "      <td>150</td>\n",
              "    </tr>\n",
              "    <tr>\n",
              "      <th>21</th>\n",
              "      <td>1.0</td>\n",
              "      <td>entropy</td>\n",
              "      <td>20.0</td>\n",
              "      <td>5</td>\n",
              "      <td>150</td>\n",
              "    </tr>\n",
              "  </tbody>\n",
              "</table>\n",
              "</div>\n",
              "      <button class=\"colab-df-convert\" onclick=\"convertToInteractive('df-7495059f-9791-44fb-8430-95dcb16d3f1a')\"\n",
              "              title=\"Convert this dataframe to an interactive table.\"\n",
              "              style=\"display:none;\">\n",
              "        \n",
              "  <svg xmlns=\"http://www.w3.org/2000/svg\" height=\"24px\"viewBox=\"0 0 24 24\"\n",
              "       width=\"24px\">\n",
              "    <path d=\"M0 0h24v24H0V0z\" fill=\"none\"/>\n",
              "    <path d=\"M18.56 5.44l.94 2.06.94-2.06 2.06-.94-2.06-.94-.94-2.06-.94 2.06-2.06.94zm-11 1L8.5 8.5l.94-2.06 2.06-.94-2.06-.94L8.5 2.5l-.94 2.06-2.06.94zm10 10l.94 2.06.94-2.06 2.06-.94-2.06-.94-.94-2.06-.94 2.06-2.06.94z\"/><path d=\"M17.41 7.96l-1.37-1.37c-.4-.4-.92-.59-1.43-.59-.52 0-1.04.2-1.43.59L10.3 9.45l-7.72 7.72c-.78.78-.78 2.05 0 2.83L4 21.41c.39.39.9.59 1.41.59.51 0 1.02-.2 1.41-.59l7.78-7.78 2.81-2.81c.8-.78.8-2.07 0-2.86zM5.41 20L4 18.59l7.72-7.72 1.47 1.35L5.41 20z\"/>\n",
              "  </svg>\n",
              "      </button>\n",
              "      \n",
              "  <style>\n",
              "    .colab-df-container {\n",
              "      display:flex;\n",
              "      flex-wrap:wrap;\n",
              "      gap: 12px;\n",
              "    }\n",
              "\n",
              "    .colab-df-convert {\n",
              "      background-color: #E8F0FE;\n",
              "      border: none;\n",
              "      border-radius: 50%;\n",
              "      cursor: pointer;\n",
              "      display: none;\n",
              "      fill: #1967D2;\n",
              "      height: 32px;\n",
              "      padding: 0 0 0 0;\n",
              "      width: 32px;\n",
              "    }\n",
              "\n",
              "    .colab-df-convert:hover {\n",
              "      background-color: #E2EBFA;\n",
              "      box-shadow: 0px 1px 2px rgba(60, 64, 67, 0.3), 0px 1px 3px 1px rgba(60, 64, 67, 0.15);\n",
              "      fill: #174EA6;\n",
              "    }\n",
              "\n",
              "    [theme=dark] .colab-df-convert {\n",
              "      background-color: #3B4455;\n",
              "      fill: #D2E3FC;\n",
              "    }\n",
              "\n",
              "    [theme=dark] .colab-df-convert:hover {\n",
              "      background-color: #434B5C;\n",
              "      box-shadow: 0px 1px 3px 1px rgba(0, 0, 0, 0.15);\n",
              "      filter: drop-shadow(0px 1px 2px rgba(0, 0, 0, 0.3));\n",
              "      fill: #FFFFFF;\n",
              "    }\n",
              "  </style>\n",
              "\n",
              "      <script>\n",
              "        const buttonEl =\n",
              "          document.querySelector('#df-7495059f-9791-44fb-8430-95dcb16d3f1a button.colab-df-convert');\n",
              "        buttonEl.style.display =\n",
              "          google.colab.kernel.accessAllowed ? 'block' : 'none';\n",
              "\n",
              "        async function convertToInteractive(key) {\n",
              "          const element = document.querySelector('#df-7495059f-9791-44fb-8430-95dcb16d3f1a');\n",
              "          const dataTable =\n",
              "            await google.colab.kernel.invokeFunction('convertToInteractive',\n",
              "                                                     [key], {});\n",
              "          if (!dataTable) return;\n",
              "\n",
              "          const docLinkHtml = 'Like what you see? Visit the ' +\n",
              "            '<a target=\"_blank\" href=https://colab.research.google.com/notebooks/data_table.ipynb>data table notebook</a>'\n",
              "            + ' to learn more about interactive tables.';\n",
              "          element.innerHTML = '';\n",
              "          dataTable['output_type'] = 'display_data';\n",
              "          await google.colab.output.renderOutput(dataTable, element);\n",
              "          const docLink = document.createElement('div');\n",
              "          docLink.innerHTML = docLinkHtml;\n",
              "          element.appendChild(docLink);\n",
              "        }\n",
              "      </script>\n",
              "    </div>\n",
              "  </div>\n",
              "  "
            ]
          },
          "metadata": {},
          "execution_count": 22
        }
      ]
    },
    {
      "cell_type": "code",
      "source": [
        "rf = RandomForestClassifier(n_estimators = 150, max_depth = None, max_features = 5, bootstrap = True, random_state = 18)\n",
        "rf.fit(X_train_smenn, y_train_smenn)"
      ],
      "metadata": {
        "colab": {
          "base_uri": "https://localhost:8080/"
        },
        "id": "3GHCFjREXDcg",
        "outputId": "0808637a-f9e7-4da9-bfff-8dc6f8e3a095"
      },
      "execution_count": null,
      "outputs": [
        {
          "output_type": "execute_result",
          "data": {
            "text/plain": [
              "RandomForestClassifier(max_features=5, n_estimators=150, random_state=18)"
            ]
          },
          "metadata": {},
          "execution_count": 23
        }
      ]
    },
    {
      "cell_type": "code",
      "source": [
        "y_predict = rf.predict(X_test)"
      ],
      "metadata": {
        "id": "qMDQmW9bXZkQ"
      },
      "execution_count": null,
      "outputs": []
    },
    {
      "cell_type": "code",
      "source": [
        "print(\"Accuracy entrenamiento\", rf.score(X_train,y_train))  \n",
        "print(\"Accuracy testeo\",rf.score(X_test, y_test))\n",
        "print(\"Recall: \", recall_score(y_test,y_predict))\n",
        "print(\"Precisión: \", precision_score(y_test,y_predict))\n",
        "print(\"F1 Score: \", f1_score(y_test,y_predict))\n",
        "print(\"Roc Auc Score: \", roc_auc_score(y_test,y_predict))\n",
        "print('Matriz de confusión')\n",
        "print(draw_cm(y_test,y_predict))"
      ],
      "metadata": {
        "colab": {
          "base_uri": "https://localhost:8080/",
          "height": 418
        },
        "id": "t1TWOcrfXcLI",
        "outputId": "d03dcdf8-78d2-4222-ff2e-1136f20e1342"
      },
      "execution_count": null,
      "outputs": [
        {
          "output_type": "stream",
          "name": "stdout",
          "text": [
            "Accuracy entrenamiento 1.0\n",
            "Accuracy testeo 0.9904761904761905\n",
            "Recall:  1.0\n",
            "Precisión:  0.9\n",
            "F1 Score:  0.9473684210526316\n",
            "Roc Auc Score:  0.9947916666666667\n",
            "Matriz de confusión\n"
          ]
        },
        {
          "output_type": "display_data",
          "data": {
            "text/plain": [
              "<Figure size 432x288 with 2 Axes>"
            ],
            "image/png": "[encoded data removed]"
          },
          "metadata": {
            "needs_background": "light"
          }
        },
        {
          "output_type": "stream",
          "name": "stdout",
          "text": [
            "None\n"
          ]
        }
      ]
    },
    {
      "cell_type": "markdown",
      "source": [
        "# **REGRESION LINEA**"
      ],
      "metadata": {
        "id": "Jfhaqp4UZylb"
      }
    },
    {
      "cell_type": "code",
      "source": [
        "def lr_grid_search(X, y):\n",
        "    model = LogisticRegression()\n",
        "    \n",
        "    # Create a dictionary of all values we want to test\n",
        "    solvers = ['newton-cg', 'lbfgs', 'liblinear']\n",
        "    penalty = ['l2']\n",
        "    c_values = [100, 10, 1.0, 0.1, 0.01]\n",
        "    \n",
        "    # define grid search\n",
        "    param_grid = dict(solver=solvers, penalty=penalty, C=c_values)\n",
        "    cv = RepeatedStratifiedKFold(n_splits=10, n_repeats=3, random_state=1)\n",
        "    \n",
        "    grid_search = GridSearchCV(estimator=model, param_grid=param_grid, n_jobs=-1, cv=cv, scoring='accuracy')\n",
        "    grid_result = grid_search.fit(X, y)\n",
        "    \n",
        "    return grid_result.best_params_\n"
      ],
      "metadata": {
        "id": "iNDFWfJIYkcS"
      },
      "execution_count": null,
      "outputs": []
    },
    {
      "cell_type": "code",
      "source": [
        "lr_grid_search(X_train_smenn, y_train_smenn)"
      ],
      "metadata": {
        "colab": {
          "base_uri": "https://localhost:8080/"
        },
        "id": "hXjn_onJYq_C",
        "outputId": "e0ac34c6-946c-4c14-db73-1c54aeeec49b"
      },
      "execution_count": null,
      "outputs": [
        {
          "output_type": "execute_result",
          "data": {
            "text/plain": [
              "{'C': 100, 'penalty': 'l2', 'solver': 'newton-cg'}"
            ]
          },
          "metadata": {},
          "execution_count": 28
        }
      ]
    },
    {
      "cell_type": "code",
      "source": [
        "lr =LogisticRegression(C=1.0, penalty='l2', solver='newton-cg')\n",
        "lr.fit(X_train_smenn, y_train_smenn)\n",
        "y_pred = lr.predict(X_test)\n",
        "\n",
        "print(classification_report(y_test, y_pred))\n",
        "\n",
        "print(\"Accuracy:\",metrics.accuracy_score(y_test, y_pred))\n",
        "print(\"Precision:\",metrics.precision_score(y_test, y_pred))\n",
        "print(\"Recall:\",metrics.recall_score(y_test, y_pred))\n",
        "\n",
        "print(lr.score(X_train_smenn, y_train_smenn))\n",
        "print(lr.score(X_train_smenn, y_train_smenn))"
      ],
      "metadata": {
        "colab": {
          "base_uri": "https://localhost:8080/"
        },
        "id": "_WXeBgUcYsYQ",
        "outputId": "6be05686-157e-4cfd-a845-d09bbf67eb1b"
      },
      "execution_count": null,
      "outputs": [
        {
          "output_type": "stream",
          "name": "stdout",
          "text": [
            "              precision    recall  f1-score   support\n",
            "\n",
            "           0       0.99      0.94      0.96        96\n",
            "           1       0.57      0.89      0.70         9\n",
            "\n",
            "    accuracy                           0.93       105\n",
            "   macro avg       0.78      0.91      0.83       105\n",
            "weighted avg       0.95      0.93      0.94       105\n",
            "\n",
            "Accuracy: 0.9333333333333333\n",
            "Precision: 0.5714285714285714\n",
            "Recall: 0.8888888888888888\n",
            "1.0\n",
            "1.0\n"
          ]
        }
      ]
    },
    {
      "cell_type": "code",
      "source": [
        "cm = metrics.confusion_matrix(y_test, y_pred, labels=[1,0])\n",
        "\n",
        "df_cm = pd.DataFrame(cm, index = [i for i in [\"1\",\"0\"]],\n",
        "                         columns = [i for i in [\"Predict 1\", \"Predict 0\"]])\n",
        "plt.figure(figsize = (7,5))\n",
        "sns.heatmap(df_cm, annot=True, fmt='g')"
      ],
      "metadata": {
        "colab": {
          "base_uri": "https://localhost:8080/",
          "height": 1000
        },
        "id": "-mJO6XW8ZrVI",
        "outputId": "57e029c9-da82-480b-d1c3-4364d0681bce"
      },
      "execution_count": null,
      "outputs": [
        {
          "output_type": "execute_result",
          "data": {
            "text/plain": [
              "<matplotlib.axes._subplots.AxesSubplot at 0x7fa20a8f6520>"
            ]
          },
          "metadata": {},
          "execution_count": 30
        },
        {
          "output_type": "display_data",
          "data": {
            "text/plain": [
              "<Figure size 2100x1500 with 2 Axes>"
            ],
            "image/png": "[encoded data removed]"
          },
          "metadata": {}
        }
      ]
    },
    {
      "cell_type": "markdown",
      "source": [
        "# **Ensemble learning - AdaBoosting**"
      ],
      "metadata": {
        "id": "XfuiTxIXakwR"
      }
    },
    {
      "cell_type": "code",
      "source": [
        "def ada_grid_search(X, y):\n",
        "    #create a dictionary of all values we want to test\n",
        "    param_grid = {'n_estimators':[10, 50, 100, 500], 'learning_rate': [0.0001, 0.001, 0.01, 0.1, 1.0]}\n",
        "    cv = RepeatedStratifiedKFold(n_splits=10, n_repeats=3, random_state=1)\n",
        "    \n",
        "    # AdaBoost model\n",
        "    ada = AdaBoostClassifier()\n",
        "    \n",
        "    # Use gridsearch to test all values\n",
        "    ada_gscv = GridSearchCV(ada, param_grid, n_jobs=-1, cv=cv, scoring='accuracy')\n",
        "    #fit model to data\n",
        "    grid_result = ada_gscv.fit(X, y)\n",
        "    \n",
        "    return grid_result.best_score_, ada_gscv.best_params_"
      ],
      "metadata": {
        "id": "u4q7fLYnaohp"
      },
      "execution_count": null,
      "outputs": []
    },
    {
      "cell_type": "code",
      "source": [
        "ada_grid_search(X_train_smenn, y_train_smenn)"
      ],
      "metadata": {
        "colab": {
          "base_uri": "https://localhost:8080/"
        },
        "id": "Jv_UEnTFaqfZ",
        "outputId": "6e944e45-b31b-4205-df80-3380bd5d79e0"
      },
      "execution_count": null,
      "outputs": [
        {
          "output_type": "execute_result",
          "data": {
            "text/plain": [
              "(1.0, {'learning_rate': 0.0001, 'n_estimators': 10})"
            ]
          },
          "metadata": {},
          "execution_count": 33
        }
      ]
    },
    {
      "cell_type": "code",
      "source": [
        "abcl = AdaBoostClassifier(n_estimators=500, learning_rate=1.0)\n",
        "abcl = abcl.fit(X_train_smenn, y_train_smenn)\n",
        "y_pred4 = abcl.predict(X_test)\n",
        "\n",
        "print(classification_report(y_test, y_pred4))\n",
        "\n",
        "print(\"Accuracy:\",metrics.accuracy_score(y_test, y_pred4))\n",
        "print(\"Precision:\",metrics.precision_score(y_test, y_pred4))\n",
        "print(\"Recall:\",metrics.recall_score(y_test, y_pred4))"
      ],
      "metadata": {
        "colab": {
          "base_uri": "https://localhost:8080/"
        },
        "id": "40tYSaGqax3J",
        "outputId": "8f4e23fa-f998-41ae-fca6-ce486f602de8"
      },
      "execution_count": null,
      "outputs": [
        {
          "output_type": "stream",
          "name": "stdout",
          "text": [
            "              precision    recall  f1-score   support\n",
            "\n",
            "           0       1.00      1.00      1.00        96\n",
            "           1       1.00      1.00      1.00         9\n",
            "\n",
            "    accuracy                           1.00       105\n",
            "   macro avg       1.00      1.00      1.00       105\n",
            "weighted avg       1.00      1.00      1.00       105\n",
            "\n",
            "Accuracy: 1.0\n",
            "Precision: 1.0\n",
            "Recall: 1.0\n"
          ]
        }
      ]
    },
    {
      "cell_type": "code",
      "source": [
        "cm = metrics.confusion_matrix(y_test, y_pred4, labels=[1,0])\n",
        "\n",
        "df_cm = pd.DataFrame(cm, index = [i for i in [\"1\",\"0\"]],\n",
        "                         columns = [i for i in [\"Predict 1\", \"Predict 0\"]])\n",
        "plt.figure(figsize = (7,5))\n",
        "sns.heatmap(df_cm, annot=True, fmt='g')"
      ],
      "metadata": {
        "colab": {
          "base_uri": "https://localhost:8080/",
          "height": 1000
        },
        "id": "SsfRZ8Hfa8fx",
        "outputId": "bd113720-7ccc-4190-ca7e-24dc1e896459"
      },
      "execution_count": null,
      "outputs": [
        {
          "output_type": "execute_result",
          "data": {
            "text/plain": [
              "<matplotlib.axes._subplots.AxesSubplot at 0x7fa20a8fa460>"
            ]
          },
          "metadata": {},
          "execution_count": 35
        },
        {
          "output_type": "display_data",
          "data": {
            "text/plain": [
              "<Figure size 2100x1500 with 2 Axes>"
            ],
            "image/png": "[encoded data removed]"
          },
          "metadata": {}
        }
      ]
    },
    {
      "cell_type": "markdown",
      "source": [
        "#**XGBoost**"
      ],
      "metadata": {
        "id": "zo22FvmLbWSC"
      }
    },
    {
      "cell_type": "code",
      "source": [
        "def xgb_grid_search(X, y):\n",
        "    # Create a dictionary of all values we want to test\n",
        "    param_grid = {\n",
        " \"learning_rate\"    : [0.05, 0.10, 0.15, 0.20, 0.25, 0.30 ] ,\n",
        " \"max_depth\"        : [ 3, 4, 5, 6, 8, 10, 12, 15],\n",
        " \"min_child_weight\" : [ 1, 3, 5, 7 ],\n",
        " \"gamma\"            : [ 0.0, 0.1, 0.2 , 0.3, 0.4 ],\n",
        " \"colsample_bytree\" : [ 0.3, 0.4, 0.5 , 0.7 ]\n",
        "    \n",
        "}\n",
        "    cv = RepeatedStratifiedKFold(n_splits=10, n_repeats=3, random_state=1)\n",
        "    \n",
        "    xgb = XGBClassifier()\n",
        "    \n",
        "    #use gridsearch to test all values\n",
        "    xgb_gscv =  RandomizedSearchCV(estimator = xgb,\n",
        "                           param_distributions = param_grid,\n",
        "                           scoring = 'accuracy',\n",
        "                           cv = cv,\n",
        "                           n_jobs = -1)\n",
        "    #fit model to data\n",
        "    xgb_gscv.fit(X, y)\n",
        "    \n",
        "    return xgb_gscv.best_params_"
      ],
      "metadata": {
        "id": "4yKdjhptbVy5"
      },
      "execution_count": null,
      "outputs": []
    },
    {
      "cell_type": "code",
      "source": [
        "xgb_grid_search(X_train_smenn, y_train_smenn)"
      ],
      "metadata": {
        "colab": {
          "base_uri": "https://localhost:8080/"
        },
        "id": "qUZLoWegbccZ",
        "outputId": "a0c04773-fd79-403b-e7ed-afc28eefdd17"
      },
      "execution_count": null,
      "outputs": [
        {
          "output_type": "execute_result",
          "data": {
            "text/plain": [
              "{'min_child_weight': 5,\n",
              " 'max_depth': 4,\n",
              " 'learning_rate': 0.25,\n",
              " 'gamma': 0.2,\n",
              " 'colsample_bytree': 0.7}"
            ]
          },
          "metadata": {},
          "execution_count": 37
        }
      ]
    },
    {
      "cell_type": "code",
      "source": [
        "xgb = XGBClassifier(min_child_weight=1, max_depth=12, learning_rate=0.2, gamma=0.0, colsample_bytree=0.3)\n",
        "xgb.fit(X_train_smenn, y_train_smenn)\n",
        "\n",
        "y_pred_xgb = xgb.predict(X_test)\n",
        "\n",
        "print(classification_report(y_test, y_pred_xgb))\n",
        "\n",
        "print(\"Accuracy:\",metrics.accuracy_score(y_test, y_pred_xgb))\n",
        "print(\"Precision:\",metrics.precision_score(y_test, y_pred_xgb))\n",
        "print(\"Recall:\",metrics.recall_score(y_test, y_pred_xgb))\n",
        "\n",
        "print(xgb.score(X_train_smenn, y_train_smenn))\n",
        "print(xgb.score(X_train_smenn, y_train_smenn))"
      ],
      "metadata": {
        "colab": {
          "base_uri": "https://localhost:8080/"
        },
        "id": "X5Lvxrm_bjtr",
        "outputId": "8cfa7dda-e201-406e-d917-737cf4bf3558"
      },
      "execution_count": null,
      "outputs": [
        {
          "output_type": "stream",
          "name": "stdout",
          "text": [
            "              precision    recall  f1-score   support\n",
            "\n",
            "           0       1.00      0.98      0.99        96\n",
            "           1       0.82      1.00      0.90         9\n",
            "\n",
            "    accuracy                           0.98       105\n",
            "   macro avg       0.91      0.99      0.94       105\n",
            "weighted avg       0.98      0.98      0.98       105\n",
            "\n",
            "Accuracy: 0.9809523809523809\n",
            "Precision: 0.8181818181818182\n",
            "Recall: 1.0\n",
            "1.0\n",
            "1.0\n"
          ]
        }
      ]
    },
    {
      "cell_type": "code",
      "source": [
        "cm = metrics.confusion_matrix(y_test, y_pred_xgb, labels=[1,0])\n",
        "\n",
        "df_cm = pd.DataFrame(cm, index = [i for i in [\"1\",\"0\"]],\n",
        "                         columns = [i for i in [\"Predict 1\", \"Predict 0\"]])\n",
        "plt.figure(figsize = (7,5))\n",
        "sns.heatmap(df_cm, annot=True, fmt='g')"
      ],
      "metadata": {
        "colab": {
          "base_uri": "https://localhost:8080/",
          "height": 1000
        },
        "id": "_C06Kz3Jb04x",
        "outputId": "5e5d4809-aeea-4dbb-f2ec-e3c0d310ffaa"
      },
      "execution_count": null,
      "outputs": [
        {
          "output_type": "execute_result",
          "data": {
            "text/plain": [
              "<matplotlib.axes._subplots.AxesSubplot at 0x7fa20a055a60>"
            ]
          },
          "metadata": {},
          "execution_count": 39
        },
        {
          "output_type": "display_data",
          "data": {
            "text/plain": [
              "<Figure size 2100x1500 with 2 Axes>"
            ],
            "image/png": "[encoded data removed]"
          },
          "metadata": {}
        }
      ]
    }
  ]
}